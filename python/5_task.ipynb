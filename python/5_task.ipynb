{
 "cells": [
  {
   "cell_type": "markdown",
   "id": "85755de8",
   "metadata": {},
   "source": [
    "# Самостоятельное задание #5\n",
    "\n",
    "\n",
    "### Задание 1\n",
    "\n",
    "Допишите функцию, которая принимает список, выбирает из него все элементы с четным индексом и возвращает их в виде списка."
   ]
  },
  {
   "cell_type": "code",
   "execution_count": 2,
   "id": "6ef6d9b3",
   "metadata": {},
   "outputs": [
    {
     "name": "stdout",
     "output_type": "stream",
     "text": [
      "5\n",
      "2\n",
      "1\n",
      "3\n",
      "4\n",
      "\n",
      "3\n",
      "\n"
     ]
    }
   ],
   "source": [
    "# Начните писать код тут\n",
    "n = int(input())#Длина списка\n",
    "s = []\n",
    "for i in range(0,n):\n",
    "    s.append(input())\n",
    "for i in range(0,n//2):\n",
    "    print(s[2*i+2])"
   ]
  },
  {
   "cell_type": "markdown",
   "id": "443974c9",
   "metadata": {},
   "source": [
    "#### Задание 2\n",
    "\n",
    "Допишите функцию, которая принимает список, выбирает из него все элементы, которые больше предыдущего и возвращает их в виде списка.\n"
   ]
  },
  {
   "cell_type": "code",
   "execution_count": 7,
   "id": "3a8cf925",
   "metadata": {},
   "outputs": [
    {
     "name": "stdout",
     "output_type": "stream",
     "text": [
      "6\n",
      "6\n",
      "3\n",
      "2\n",
      "4\n",
      "5\n",
      "1\n",
      "['4', '5']\n"
     ]
    }
   ],
   "source": [
    "# Начните писать код тут\n",
    "n = int(input())#Длина списка\n",
    "s = []\n",
    "k = []\n",
    "for i in range(0,n):\n",
    "    s.append(input())\n",
    "for i in range(0,len(s)-1):\n",
    "    if s[i+1] > s[i]:\n",
    "        k.append(s[i+1])\n",
    "print(k)"
   ]
  },
  {
   "cell_type": "markdown",
   "id": "34524ede",
   "metadata": {},
   "source": [
    "### Задание 3\n",
    "\n",
    "Допишите функцию, которая принимает список, меняет местами наибольший и наименьший элементы и возвращает этот список."
   ]
  },
  {
   "cell_type": "code",
   "execution_count": 15,
   "id": "34d2beae",
   "metadata": {},
   "outputs": [
    {
     "name": "stdout",
     "output_type": "stream",
     "text": [
      "5\n",
      "1\n",
      "2\n",
      "3\n",
      "4\n",
      "5\n",
      "4 , 5\n"
     ]
    }
   ],
   "source": [
    "# Начните писать код тут\n",
    "n = int(input())#Длина списка\n",
    "s = []\n",
    "k = []\n",
    "a = 0\n",
    "b = 0\n",
    "a1 = 0\n",
    "b1 = 0\n",
    "for i in range(0,n):\n",
    "    s.append(input())\n",
    "for i in range(0,n):#короче тут у меня косяк какой-то, позже исправлю\n",
    "    if s[i-1]<s[i]:\n",
    "        a = s[i-1]\n",
    "        if s[i]<a:\n",
    "            a = s[i]\n",
    "    if s[i]>s[i-1]:\n",
    "        b = s[i]\n",
    "        if s[i]>b:\n",
    "            b = s[i]\n",
    "print(a,',',b)"
   ]
  },
  {
   "cell_type": "code",
   "execution_count": null,
   "id": "8164dd22",
   "metadata": {},
   "outputs": [],
   "source": []
  },
  {
   "cell_type": "code",
   "execution_count": null,
   "id": "696c778b",
   "metadata": {},
   "outputs": [],
   "source": []
  }
 ],
 "metadata": {
  "kernelspec": {
   "display_name": "Python 3 (ipykernel)",
   "language": "python",
   "name": "python3"
  },
  "language_info": {
   "codemirror_mode": {
    "name": "ipython",
    "version": 3
   },
   "file_extension": ".py",
   "mimetype": "text/x-python",
   "name": "python",
   "nbconvert_exporter": "python",
   "pygments_lexer": "ipython3",
   "version": "3.9.7"
  }
 },
 "nbformat": 4,
 "nbformat_minor": 5
}
